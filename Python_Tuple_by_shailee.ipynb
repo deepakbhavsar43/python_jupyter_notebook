{
 "cells": [
  {
   "cell_type": "markdown",
   "metadata": {},
   "source": [
    "### Made by : <u><i>Shailee R. Desai</i></u>\n",
    "\n",
    "# Tuples \n",
    "\n",
    "+ It store collections of data.\n",
    "+ Mutability : Immutable\n",
    "+ It is Ordered\n",
    "+ Allows duplicate values\n",
    "+ written within : ()"
   ]
  },
  {
   "cell_type": "code",
   "execution_count": 5,
   "metadata": {},
   "outputs": [
    {
     "name": "stdout",
     "output_type": "stream",
     "text": [
      "('strawberry', 'banana', 'cherry', 'apple', 'grapes', 'banana')\n"
     ]
    }
   ],
   "source": [
    "# Create a tuple\n",
    "\n",
    "fruits = ('strawberry', 'banana', 'cherry', 'apple', 'grapes', 'banana') # allows duplicate values\n",
    "print(fruits)"
   ]
  },
  {
   "cell_type": "code",
   "execution_count": 4,
   "metadata": {},
   "outputs": [
    {
     "name": "stdout",
     "output_type": "stream",
     "text": [
      "('apple',)\n",
      "<class 'tuple'>\n",
      "apple\n",
      "<class 'str'>\n"
     ]
    }
   ],
   "source": [
    "fruit = (\"apple\",)\n",
    "print(fruit)\n",
    "print(type(fruit))\n",
    "\n",
    "#NOT a tuple\n",
    "fruit = (\"apple\")\n",
    "print(fruit)\n",
    "print(type(fruit))\n"
   ]
  },
  {
   "cell_type": "code",
   "execution_count": 7,
   "metadata": {},
   "outputs": [
    {
     "name": "stdout",
     "output_type": "stream",
     "text": [
      "('shailee', 21, True)\n"
     ]
    }
   ],
   "source": [
    "data = ('shailee', 21, True)\n",
    "print(data)"
   ]
  },
  {
   "cell_type": "code",
   "execution_count": 8,
   "metadata": {},
   "outputs": [
    {
     "name": "stdout",
     "output_type": "stream",
     "text": [
      "('pineapple', 'banana', 'cherry')\n"
     ]
    }
   ],
   "source": [
    "# tuple Constructor\n",
    "fruits = tuple((\"pineapple\", \"banana\", \"cherry\")) # note the double round-brackets\n",
    "print(fruits)"
   ]
  },
  {
   "cell_type": "code",
   "execution_count": 11,
   "metadata": {},
   "outputs": [
    {
     "name": "stdout",
     "output_type": "stream",
     "text": [
      "ss\n",
      "biology\n",
      "('maths', 'science', 'ss')\n",
      "('biology', 'ss', 'science', 'maths')\n"
     ]
    }
   ],
   "source": [
    "# slicing and indexing can be performed\n",
    "text_books = ('maths', 'science', 'ss', 'biology')\n",
    "print(text_books[2])\n",
    "print(text_books[-1])\n",
    "print(text_books[:3])\n",
    "print(text_books[::-1])"
   ]
  },
  {
   "cell_type": "code",
   "execution_count": 2,
   "metadata": {},
   "outputs": [
    {
     "name": "stdout",
     "output_type": "stream",
     "text": [
      "('banana', 'cherry', 'orange')\n"
     ]
    }
   ],
   "source": [
    "# we cannot update tuples as it is immutable so add and remove cannot be performed on tuple\n",
    "\n",
    "fruits_tuple = (\"apple\", \"banana\", \"cherry\")\n",
    "fruits_list = list(fruits_tuple)\n",
    "fruits_list.remove(\"apple\")\n",
    "fruits_list.append(\"orange\")\n",
    "fruits_tuple = tuple(fruits_list)\n",
    "print(fruits_tuple)"
   ]
  },
  {
   "cell_type": "code",
   "execution_count": 15,
   "metadata": {},
   "outputs": [],
   "source": [
    "#you can delete the tuple completely\n",
    "fruits = (\"apple\", \"banana\", \"cherry\")\n",
    "del fruits"
   ]
  },
  {
   "cell_type": "markdown",
   "metadata": {},
   "source": [
    "## Methods of tuple\n",
    "\n",
    "+ count()\n",
    "+ index()"
   ]
  },
  {
   "cell_type": "code",
   "execution_count": 19,
   "metadata": {},
   "outputs": [],
   "source": [
    "actors = (\"katrina\", \"Depika\", \"Alia\", \"Depika\")"
   ]
  },
  {
   "cell_type": "code",
   "execution_count": 22,
   "metadata": {},
   "outputs": [
    {
     "name": "stdout",
     "output_type": "stream",
     "text": [
      "2\n"
     ]
    }
   ],
   "source": [
    "print(actors.count(\"Depika\"))\n"
   ]
  },
  {
   "cell_type": "code",
   "execution_count": 24,
   "metadata": {},
   "outputs": [
    {
     "name": "stdout",
     "output_type": "stream",
     "text": [
      "0\n"
     ]
    }
   ],
   "source": [
    "# print(actors.index(\"Kajol\"))\n",
    "print(actors.index(\"katrina\"))"
   ]
  },
  {
   "cell_type": "code",
   "execution_count": null,
   "metadata": {},
   "outputs": [],
   "source": []
  }
 ],
 "metadata": {
  "kernelspec": {
   "display_name": "Python 3",
   "language": "python",
   "name": "python3"
  },
  "language_info": {
   "codemirror_mode": {
    "name": "ipython",
    "version": 3
   },
   "file_extension": ".py",
   "mimetype": "text/x-python",
   "name": "python",
   "nbconvert_exporter": "python",
   "pygments_lexer": "ipython3",
   "version": "3.7.6"
  }
 },
 "nbformat": 4,
 "nbformat_minor": 4
}
