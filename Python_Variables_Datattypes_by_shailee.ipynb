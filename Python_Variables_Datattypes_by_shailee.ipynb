{
 "cells": [
  {
   "cell_type": "markdown",
   "metadata": {},
   "source": [
    "### Made by : <u><i>Shailee R. Desai</i></u>\n",
    "\n",
    "# Variables and Data types"
   ]
  },
  {
   "cell_type": "markdown",
   "metadata": {},
   "source": [
    "## Variables\n",
    "\n",
    "+ variables : containers for storing variables"
   ]
  },
  {
   "cell_type": "markdown",
   "metadata": {},
   "source": [
    "### Rules for Variable Naming and creation"
   ]
  },
  {
   "cell_type": "code",
   "execution_count": 1,
   "metadata": {},
   "outputs": [
    {
     "name": "stdout",
     "output_type": "stream",
     "text": [
      "Shailee\n"
     ]
    }
   ],
   "source": [
    "full_name = \"Shailee\"  # Rule 1: No use of special characters, only '_' (underscore) is allowed\n",
    "# full.name = \"Shailee\"\n",
    "print(full_name)"
   ]
  },
  {
   "cell_type": "code",
   "execution_count": 3,
   "metadata": {},
   "outputs": [
    {
     "name": "stdout",
     "output_type": "stream",
     "text": [
      "True\n"
     ]
    }
   ],
   "source": [
    "passout_batch_2021 = True # Rule 2 : We can include digits but not in the beginning\n",
    "# 2021_passout = True\n",
    "print(passout_batch_2021)"
   ]
  },
  {
   "cell_type": "code",
   "execution_count": 4,
   "metadata": {},
   "outputs": [
    {
     "name": "stdout",
     "output_type": "stream",
     "text": [
      "22\n"
     ]
    }
   ],
   "source": [
    "age = 22 # Rule 3 : variable name must start with any case alphabet or underscore(_), but variable age and Age are different (case sensitive) \n",
    "# @age = 22\n",
    "print(age)"
   ]
  },
  {
   "cell_type": "markdown",
   "metadata": {},
   "source": [
    "### Multi Words Variable Names\n",
    "\n",
    "+ camelCase : myFullName\n",
    "+ PascalCase : MyFullName\n",
    "+ snake_case : my_full_name (Generally snake_case is used by python developers)"
   ]
  },
  {
   "cell_type": "markdown",
   "metadata": {},
   "source": [
    "## Data Types"
   ]
  },
  {
   "cell_type": "code",
   "execution_count": 6,
   "metadata": {},
   "outputs": [],
   "source": [
    "name_ = \"Shailee\"\n",
    "age_ = 22\n",
    "batch_2021 = True\n",
    "CGPA = 9.54\n",
    "subjects = [\"os\", \"cn\", \"c\", \"python\"]\n",
    "marks = (89, 76, 56)\n"
   ]
  },
  {
   "cell_type": "code",
   "execution_count": 7,
   "metadata": {},
   "outputs": [
    {
     "name": "stdout",
     "output_type": "stream",
     "text": [
      "<class 'str'>\n",
      "<class 'int'>\n",
      "<class 'bool'>\n",
      "<class 'float'>\n",
      "<class 'list'>\n"
     ]
    }
   ],
   "source": [
    "print(type(name_))\n",
    "print(type(age_))\n",
    "print(type(batch_2021))\n",
    "print(type(CGPA))\n",
    "print(type(subjects))\n",
    "print(type)"
   ]
  },
  {
   "cell_type": "code",
   "execution_count": null,
   "metadata": {},
   "outputs": [],
   "source": []
  }
 ],
 "metadata": {
  "kernelspec": {
   "display_name": "Python 3",
   "language": "python",
   "name": "python3"
  },
  "language_info": {
   "codemirror_mode": {
    "name": "ipython",
    "version": 3
   },
   "file_extension": ".py",
   "mimetype": "text/x-python",
   "name": "python",
   "nbconvert_exporter": "python",
   "pygments_lexer": "ipython3",
   "version": "3.7.6"
  }
 },
 "nbformat": 4,
 "nbformat_minor": 4
}
