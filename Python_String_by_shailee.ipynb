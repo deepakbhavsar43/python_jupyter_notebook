{
 "cells": [
  {
   "cell_type": "markdown",
   "metadata": {},
   "source": [
    "### Made by : <u><i>Shailee R. Desai</i></u>\n",
    "\n",
    "# String  "
   ]
  },
  {
   "cell_type": "markdown",
   "metadata": {},
   "source": [
    "+ Strings : objects that contain sequences of character data.\n",
    "\n",
    "+ Data type: str (Text type)\n",
    "\n",
    "+ Mutability : Immutable\n",
    "\n",
    "## Operators\n",
    "\n",
    "+ Operators + and * are also used with Strings."
   ]
  },
  {
   "cell_type": "code",
   "execution_count": 2,
   "metadata": {},
   "outputs": [
    {
     "data": {
      "text/plain": [
       "'ShaileeR.Desai'"
      ]
     },
     "execution_count": 2,
     "metadata": {},
     "output_type": "execute_result"
    }
   ],
   "source": [
    "first_name = \"Shailee\" # first_name = 'Shailee' we can declare string in any of single and double quotes. It means same.\n",
    "middle_name = \"R.\"\n",
    "last_name = \"Desai\"\n",
    "\n",
    "full_name = first_name + middle_name + last_name\n",
    "full_name\n"
   ]
  },
  {
   "cell_type": "code",
   "execution_count": 6,
   "metadata": {},
   "outputs": [
    {
     "name": "stdout",
     "output_type": "stream",
     "text": [
      "ShaileeR.Desai\n"
     ]
    }
   ],
   "source": [
    "print(full_name)"
   ]
  },
  {
   "cell_type": "markdown",
   "metadata": {},
   "source": [
    "#### Practice : Add space between first_name , middle_name and last_name\n",
    "\n",
    "+ concatenation operator : +\n",
    "+ formatting operator : %"
   ]
  },
  {
   "cell_type": "code",
   "execution_count": 4,
   "metadata": {},
   "outputs": [
    {
     "name": "stdout",
     "output_type": "stream",
     "text": [
      "Shailee R.\n"
     ]
    }
   ],
   "source": [
    "print(first_name+ \" \"+ middle_name)"
   ]
  },
  {
   "cell_type": "code",
   "execution_count": 5,
   "metadata": {},
   "outputs": [
    {
     "name": "stdout",
     "output_type": "stream",
     "text": [
      "My name is Shailee R. Desai and I'm 22 years old.\n",
      "My name is Shailee R. Desai and I'm 22 years old.\n",
      "My name is Shailee R. Desai and I'm 22 years old.\n",
      "My name is Shailee R. Desai and I'm 22 years old.\n"
     ]
    }
   ],
   "source": [
    "age = 22\n",
    "\n",
    "# %-formatting : Option 1\n",
    "print(\"My name is %s %s %s and I'm %d years old.\" %(first_name, middle_name, last_name, age))\n",
    "\n",
    "# str.format() : option 2\n",
    "print(\"My name is {} {} {} and I'm {} years old.\" .format(first_name, middle_name, last_name, age))\n",
    "print(\"My name is {2} {0} {1} and I'm {3} years old.\" .format(middle_name, last_name, first_name, age))\n",
    "\n",
    "# f-strings : option 3 (Best Approach)\n",
    "print(f\"My name is {first_name} {middle_name} {last_name} and I'm {age} years old.\") "
   ]
  },
  {
   "cell_type": "markdown",
   "metadata": {},
   "source": [
    "### Other Operators for String\n",
    "\n",
    "1. [ ]\n",
    "2. in\n",
    "3. not in \n",
    "4. r/R - raw string operator"
   ]
  },
  {
   "cell_type": "markdown",
   "metadata": {},
   "source": [
    "### Slicing operator [ ]\n",
    "+ important : start < end\n",
    "+ if step positive integer (>=0) :\n",
    "    + [start, end , step]\n",
    "+ if step negative integer (<0):\n",
    "    + [end, start, step]"
   ]
  },
  {
   "cell_type": "markdown",
   "metadata": {},
   "source": [
    "<img src=\"Slicing_string.JPG\">"
   ]
  },
  {
   "cell_type": "code",
   "execution_count": 11,
   "metadata": {},
   "outputs": [
    {
     "name": "stdout",
     "output_type": "stream",
     "text": [
      "a\n",
      "eeliahS\n"
     ]
    }
   ],
   "source": [
    "name_1 = \"Shailee\"\n",
    "print(name_1[2])\n",
    "print(name_1[::-1])"
   ]
  },
  {
   "cell_type": "code",
   "execution_count": 7,
   "metadata": {},
   "outputs": [
    {
     "name": "stdout",
     "output_type": "stream",
     "text": [
      "Welcome! to Python Course.\n",
      "! to \n",
      "! to Python Course.\n",
      "ours\n",
      "ours\n",
      "lcome! to \n",
      "Python Cour\n",
      "Welcome! to Python Course.\n",
      "loe oPt\n",
      "loe\n",
      "\n",
      "t !emoc\n",
      "nohtyP ot !emo\n",
      "esruoC nohtyP ot\n",
      ".esruoC nohtyP ot !emocleW\n"
     ]
    }
   ],
   "source": [
    "message = \"Welcome! to Python Course.\"\n",
    "\n",
    "print(message[:])\n",
    "print(message[7:12])\n",
    "print(message[7:40])\n",
    "print(message[-6:-2])\n",
    "print(message[20:24])\n",
    "print(message[2:-14])\n",
    "print(message[-14:23])\n",
    "\n",
    "\n",
    "print(message[::])\n",
    "print(message[2:16:2])\n",
    "print(message[-24:-18:2])\n",
    "print(message[-8:0:2])\n",
    "\n",
    "\n",
    "print(message[9:2:-1])\n",
    "print(message[-9:-23:-1])\n",
    "print(message[-2:8:-1])\n",
    "print(message[::-1])"
   ]
  },
  {
   "cell_type": "markdown",
   "metadata": {},
   "source": [
    "Try this:"
   ]
  },
  {
   "cell_type": "code",
   "execution_count": 9,
   "metadata": {},
   "outputs": [
    {
     "name": "stdout",
     "output_type": "stream",
     "text": [
      "\n",
      "\n",
      "P ot \n",
      "\n",
      "esru\n",
      "\n"
     ]
    }
   ],
   "source": [
    "print(message[-2:-6:2])\n",
    "print(message[12:7])\n",
    "print(message[12:7:-1])\n",
    "print(message[-2:-6])\n",
    "print(message[-2:-6:-1])\n",
    "print(message[2:9:-1])"
   ]
  },
  {
   "cell_type": "markdown",
   "metadata": {},
   "source": [
    "### Membership operator : 'in' and 'not in'"
   ]
  },
  {
   "cell_type": "code",
   "execution_count": 10,
   "metadata": {},
   "outputs": [
    {
     "name": "stdout",
     "output_type": "stream",
     "text": [
      "False\n",
      "False\n",
      "False\n",
      "False\n",
      "True\n",
      "True\n"
     ]
    }
   ],
   "source": [
    "name = \"Shailee R. Deai\"\n",
    "print(\"s\" in name)\n",
    "print(\"b\" in name)\n",
    "print(\"esa\" in name)\n",
    "\n",
    "print(\"S\" not in name)\n",
    "print(\"b\" not in name)\n",
    "print(\"shailee\" not in name)"
   ]
  },
  {
   "cell_type": "markdown",
   "metadata": {},
   "source": [
    "### Raw string operator : r/R"
   ]
  },
  {
   "cell_type": "code",
   "execution_count": 15,
   "metadata": {},
   "outputs": [
    {
     "name": "stdout",
     "output_type": "stream",
     "text": [
      "this is used for tab \\t \n",
      "this is tab \n",
      " command\n"
     ]
    }
   ],
   "source": [
    "print(r\"this is used for tab \\t \")\n",
    "print(\"this is tab \\n command\")"
   ]
  },
  {
   "cell_type": "markdown",
   "metadata": {},
   "source": [
    "##  Basic Built-in String Methods\n",
    "\n",
    "+ count()\n",
    "+ index()\n",
    "+ isalnum()\n",
    "+ isalpha()\n",
    "+ isdigit()\n",
    "+ islower()\n",
    "+ isupper()\n",
    "+ isnumeric()\n",
    "+ join()\n",
    "+ len()\n",
    "+ lower()\n",
    "+ upper()\n",
    "+ split()"
   ]
  },
  {
   "cell_type": "code",
   "execution_count": 16,
   "metadata": {},
   "outputs": [
    {
     "name": "stdout",
     "output_type": "stream",
     "text": [
      "2\n",
      "5\n",
      "False\n"
     ]
    }
   ],
   "source": [
    "welcome_msg = \"This is python basics tutorial.\"\n",
    "print(welcome_msg.count(\"is\"))\n",
    "y = welcome_msg.index(\"is\")\n",
    "print(welcome_msg.index(\"is\",y+1))\n",
    "print(welcome_msg.isalnum())\n",
    "\n"
   ]
  },
  {
   "cell_type": "code",
   "execution_count": 26,
   "metadata": {},
   "outputs": [
    {
     "name": "stdout",
     "output_type": "stream",
     "text": [
      "True\n",
      "True\n",
      "False\n",
      "8\n",
      "STUDENTS\n"
     ]
    }
   ],
   "source": [
    "str_1 = \"students\"\n",
    "\n",
    "print(str_1.isalnum())\n",
    "print(str_1.islower())\n",
    "print(str_1.isupper())\n",
    "print(len(str_1))\n",
    "print(str_1.upper())"
   ]
  },
  {
   "cell_type": "code",
   "execution_count": 24,
   "metadata": {},
   "outputs": [
    {
     "name": "stdout",
     "output_type": "stream",
     "text": [
      "shailee,Desai\n"
     ]
    }
   ],
   "source": [
    "list1= [\"shailee\", \"Desai\"]\n",
    "print(\",\".join(list1))\n"
   ]
  },
  {
   "cell_type": "code",
   "execution_count": 27,
   "metadata": {},
   "outputs": [
    {
     "name": "stdout",
     "output_type": "stream",
     "text": [
      "['shailee', 'R.', 'Desai']\n"
     ]
    }
   ],
   "source": [
    "str_1=\"shailee R. Desai\"\n",
    "f_name = str_1.split(\" \")\n",
    "print(f_name)"
   ]
  },
  {
   "cell_type": "code",
   "execution_count": null,
   "metadata": {},
   "outputs": [],
   "source": [
    "#12 13 14\n",
    "list_num = input(\"Enter Numbers\").split(\",\")"
   ]
  },
  {
   "cell_type": "markdown",
   "metadata": {},
   "source": [
    "### String : Immutable"
   ]
  },
  {
   "cell_type": "code",
   "execution_count": 1,
   "metadata": {},
   "outputs": [
    {
     "name": "stdout",
     "output_type": "stream",
     "text": [
      "513219564208\n"
     ]
    }
   ],
   "source": [
    "st = \"Shailee\"\n",
    "print(id(st))"
   ]
  },
  {
   "cell_type": "code",
   "execution_count": 3,
   "metadata": {},
   "outputs": [
    {
     "ename": "TypeError",
     "evalue": "'str' object does not support item assignment",
     "output_type": "error",
     "traceback": [
      "\u001b[1;31m---------------------------------------------------------------------------\u001b[0m",
      "\u001b[1;31mTypeError\u001b[0m                                 Traceback (most recent call last)",
      "\u001b[1;32m<ipython-input-3-3a3dd2b96869>\u001b[0m in \u001b[0;36m<module>\u001b[1;34m\u001b[0m\n\u001b[1;32m----> 1\u001b[1;33m \u001b[0mst\u001b[0m\u001b[1;33m[\u001b[0m\u001b[1;36m0\u001b[0m\u001b[1;33m]\u001b[0m\u001b[1;33m=\u001b[0m\u001b[1;34m\"s\"\u001b[0m \u001b[1;31m#we cannot change elements by indexing. Therefore it is Immutable.\u001b[0m\u001b[1;33m\u001b[0m\u001b[1;33m\u001b[0m\u001b[0m\n\u001b[0m",
      "\u001b[1;31mTypeError\u001b[0m: 'str' object does not support item assignment"
     ]
    }
   ],
   "source": [
    "st[0]=\"s\" #we cannot change elements by indexing. Therefore it is Immutable."
   ]
  },
  {
   "cell_type": "code",
   "execution_count": 4,
   "metadata": {},
   "outputs": [
    {
     "name": "stdout",
     "output_type": "stream",
     "text": [
      "513219710384\n"
     ]
    }
   ],
   "source": [
    "st = \"shaile Desai\"\n",
    "print(id(st))"
   ]
  },
  {
   "cell_type": "code",
   "execution_count": 5,
   "metadata": {},
   "outputs": [
    {
     "name": "stdout",
     "output_type": "stream",
     "text": [
      "513219647984\n",
      "513219560512\n",
      "513219560512\n"
     ]
    }
   ],
   "source": [
    "st1 = \"Students\"\n",
    "for i in range(3):\n",
    "    st1 += \"hello\" #st1 = st1 + \"hello\"\n",
    "    print(id(st1))"
   ]
  }
 ],
 "metadata": {
  "kernelspec": {
   "display_name": "Python 3",
   "language": "python",
   "name": "python3"
  },
  "language_info": {
   "codemirror_mode": {
    "name": "ipython",
    "version": 3
   },
   "file_extension": ".py",
   "mimetype": "text/x-python",
   "name": "python",
   "nbconvert_exporter": "python",
   "pygments_lexer": "ipython3",
   "version": "3.7.6"
  }
 },
 "nbformat": 4,
 "nbformat_minor": 4
}
