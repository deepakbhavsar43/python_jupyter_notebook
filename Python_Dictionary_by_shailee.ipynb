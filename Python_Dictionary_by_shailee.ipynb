{
 "cells": [
  {
   "cell_type": "markdown",
   "metadata": {},
   "source": [
    "### Made by : <u><i>Shailee R. Desai</i></u>\n",
    "\n",
    "# Dictionary\n",
    "\n",
    "+ It store data values in key:value pairs.\n",
    "+ It is ordered.\n",
    "+ Mutability : Mutable\n",
    "+ Does not allow duplicates.\n",
    "+ written within : {}"
   ]
  },
  {
   "cell_type": "code",
   "execution_count": 1,
   "metadata": {},
   "outputs": [
    {
     "name": "stdout",
     "output_type": "stream",
     "text": [
      "{'name': 'Shailee', 'age': 22, 'passout_2021': True}\n",
      "Shailee\n",
      "{'name1': 'Shaily'}\n"
     ]
    }
   ],
   "source": [
    "# Create a Dictionary and print it.\n",
    "\n",
    "user_data = {\n",
    "    \"name\" : \"Shailee\",\n",
    "    \"age\" : 22,\n",
    "    \"passout_2021\": True\n",
    "}\n",
    "print(user_data)\n",
    "print(user_data[\"name\"])\n",
    "\n",
    "users_data = {}\n",
    "users_data[\"name1\"] = \"Shaily\"\n",
    "print(users_data)\n"
   ]
  },
  {
   "cell_type": "code",
   "execution_count": 2,
   "metadata": {},
   "outputs": [
    {
     "name": "stdout",
     "output_type": "stream",
     "text": [
      "Not found\n",
      "Shailee\n"
     ]
    }
   ],
   "source": [
    "#There is also a method called get() that will give you the same result:\n",
    "\n",
    "print(user_data.get(\"model\", \"Not found\"))\n",
    "# print(user_data[\"model\"])\n",
    "print(user_data.get(\"name\"))"
   ]
  },
  {
   "cell_type": "code",
   "execution_count": 3,
   "metadata": {},
   "outputs": [
    {
     "name": "stdout",
     "output_type": "stream",
     "text": [
      "dict_keys(['name', 'age', 'passout_2021'])\n",
      "dict_keys(['name', 'age', 'passout_2021', 'branch', 'semester'])\n"
     ]
    }
   ],
   "source": [
    "x = user_data.keys()\n",
    "\n",
    "print(x) #before the change\n",
    "\n",
    "user_data[\"branch\"] = \"CE\"\n",
    "user_data.update({\"semester\": 8})\n",
    "\n",
    "print(x) #after the change\n"
   ]
  },
  {
   "cell_type": "code",
   "execution_count": 4,
   "metadata": {},
   "outputs": [
    {
     "name": "stdout",
     "output_type": "stream",
     "text": [
      "dict_values(['Shailee', 21, True, 'CE', 8])\n",
      "dict_values(['Shailee', 20, True, 'CE', 8])\n"
     ]
    }
   ],
   "source": [
    "user_data[\"age\"] = 21\n",
    "print(user_data.values())\n",
    "user_data.update({\"age\": 20})\n",
    "y = user_data.values()\n",
    "print(y)"
   ]
  },
  {
   "cell_type": "code",
   "execution_count": 5,
   "metadata": {},
   "outputs": [
    {
     "name": "stdout",
     "output_type": "stream",
     "text": [
      "dict_items([('name', 'Shailee'), ('age', 20), ('passout_2021', True), ('branch', 'CE'), ('semester', 8)])\n",
      "{'name': 'Shailee', 'age': 20, 'passout_2021': True, 'branch': 'CE', 'semester': 8}\n"
     ]
    }
   ],
   "source": [
    "data = user_data.items()\n",
    "print(data)\n",
    "print(user_data)"
   ]
  },
  {
   "cell_type": "code",
   "execution_count": 6,
   "metadata": {},
   "outputs": [
    {
     "name": "stdout",
     "output_type": "stream",
     "text": [
      "True\n"
     ]
    }
   ],
   "source": [
    "# membership operator\n",
    "\n",
    "print(\"Shailee\" in user_data.values())"
   ]
  },
  {
   "cell_type": "code",
   "execution_count": 7,
   "metadata": {},
   "outputs": [
    {
     "name": "stdout",
     "output_type": "stream",
     "text": [
      "{'age': 20, 'passout_2021': True, 'branch': 'CE', 'semester': 8}\n"
     ]
    }
   ],
   "source": [
    "user_data.pop(\"name\")\n",
    "print(user_data)"
   ]
  },
  {
   "cell_type": "code",
   "execution_count": 8,
   "metadata": {},
   "outputs": [
    {
     "name": "stdout",
     "output_type": "stream",
     "text": [
      "{'age': 20, 'passout_2021': True, 'branch': 'CE'}\n"
     ]
    }
   ],
   "source": [
    "user_data.popitem()\n",
    "print(user_data)"
   ]
  },
  {
   "cell_type": "code",
   "execution_count": 9,
   "metadata": {},
   "outputs": [
    {
     "name": "stdout",
     "output_type": "stream",
     "text": [
      "{'passout_2021': True, 'branch': 'CE'}\n"
     ]
    }
   ],
   "source": [
    "del user_data[\"age\"]\n",
    "print(user_data)"
   ]
  },
  {
   "cell_type": "code",
   "execution_count": 18,
   "metadata": {},
   "outputs": [
    {
     "name": "stdout",
     "output_type": "stream",
     "text": [
      "None\n"
     ]
    }
   ],
   "source": [
    "fruit_colors = {\n",
    "    \"banana\": \"yellow\",\n",
    "    \"apple\" : \"red\",\n",
    "    \"cherry\": \"red\"\n",
    "}\n",
    "\n",
    "# del fruit_colors\n",
    "# print(fruit_colors)\n",
    "print(fruit_colors.clear())"
   ]
  },
  {
   "cell_type": "code",
   "execution_count": 19,
   "metadata": {},
   "outputs": [
    {
     "name": "stdout",
     "output_type": "stream",
     "text": [
      "{'user_1': {'name': 'abc', 'age': 20}, 'user_2': {'name': 'SD', 'age': 21}, 'user_3': {'name': 'xyz', 'age': 23}}\n"
     ]
    }
   ],
   "source": [
    "users_data = {\n",
    "    \"user_1\" : {\n",
    "        \"name\":\"abc\",\n",
    "        \"age\" : 20\n",
    "    },\n",
    "    \"user_2\" : {\n",
    "        \"name\" : \"SD\",\n",
    "        \"age\" : 21\n",
    "    },\n",
    "    \"user_3\" : {\n",
    "        \"name\" : \"xyz\",\n",
    "        \"age\" : 23\n",
    "    }\n",
    "}\n",
    "print(users_data)"
   ]
  },
  {
   "cell_type": "code",
   "execution_count": null,
   "metadata": {},
   "outputs": [],
   "source": []
  }
 ],
 "metadata": {
  "kernelspec": {
   "display_name": "Python 3",
   "language": "python",
   "name": "python3"
  },
  "language_info": {
   "codemirror_mode": {
    "name": "ipython",
    "version": 3
   },
   "file_extension": ".py",
   "mimetype": "text/x-python",
   "name": "python",
   "nbconvert_exporter": "python",
   "pygments_lexer": "ipython3",
   "version": "3.7.6"
  }
 },
 "nbformat": 4,
 "nbformat_minor": 4
}
