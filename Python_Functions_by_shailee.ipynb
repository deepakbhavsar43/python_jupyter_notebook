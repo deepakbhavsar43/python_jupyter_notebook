{
 "cells": [
  {
   "cell_type": "markdown",
   "metadata": {},
   "source": [
    "### Made by : <u><i>Shailee R. Desai</i></u>\n",
    "\n",
    "# Functions\n",
    "\n",
    "+ Function is used to avoid writing same code many times.\n",
    "+ Reduces redundancy\n",
    "+ It will only execute when we call function.\n",
    "+ It is defined using 'def' keyword"
   ]
  },
  {
   "cell_type": "code",
   "execution_count": 1,
   "metadata": {},
   "outputs": [
    {
     "name": "stdout",
     "output_type": "stream",
     "text": [
      "Congrats!, you made your first function.\n"
     ]
    }
   ],
   "source": [
    "#Creating and calling function\n",
    "def first_func(): #create function\n",
    "    print(\"Congrats!, you made your first function.\")\n",
    "    \n",
    "first_func() #calling function"
   ]
  },
  {
   "cell_type": "code",
   "execution_count": 2,
   "metadata": {},
   "outputs": [
    {
     "name": "stdout",
     "output_type": "stream",
     "text": [
      "Congrats!, you made your first function.\n"
     ]
    }
   ],
   "source": [
    "def first_func():\n",
    "    return \"Congrats!, you made your first function.\" # return keyword will return values,variables\n",
    "    \n",
    "print(first_func())"
   ]
  },
  {
   "cell_type": "code",
   "execution_count": 9,
   "metadata": {},
   "outputs": [
    {
     "name": "stdout",
     "output_type": "stream",
     "text": [
      "7\n",
      "9\n"
     ]
    }
   ],
   "source": [
    "print(3+4)\n",
    "print(4+5)"
   ]
  },
  {
   "cell_type": "code",
   "execution_count": 4,
   "metadata": {},
   "outputs": [
    {
     "name": "stdout",
     "output_type": "stream",
     "text": [
      "9\n"
     ]
    }
   ],
   "source": [
    "#parameter passing\n",
    "def add(a, b): # parameters a,b\n",
    "    addition = a+b\n",
    "    return addition\n",
    "\n",
    "print(add(4,5)) # arguments:4,5"
   ]
  },
  {
   "cell_type": "code",
   "execution_count": 12,
   "metadata": {},
   "outputs": [
    {
     "ename": "TypeError",
     "evalue": "concate_str() takes 2 positional arguments but 3 were given",
     "output_type": "error",
     "traceback": [
      "\u001b[1;31m---------------------------------------------------------------------------\u001b[0m",
      "\u001b[1;31mTypeError\u001b[0m                                 Traceback (most recent call last)",
      "\u001b[1;32m<ipython-input-12-c216ac7de14c>\u001b[0m in \u001b[0;36m<module>\u001b[1;34m\u001b[0m\n\u001b[0;32m      4\u001b[0m \u001b[1;33m\u001b[0m\u001b[0m\n\u001b[0;32m      5\u001b[0m \u001b[1;33m\u001b[0m\u001b[0m\n\u001b[1;32m----> 6\u001b[1;33m \u001b[0mprint\u001b[0m\u001b[1;33m(\u001b[0m\u001b[0mconcate_str\u001b[0m\u001b[1;33m(\u001b[0m\u001b[1;34m\"shailee\"\u001b[0m\u001b[1;33m,\u001b[0m\u001b[1;34m\"R.\"\u001b[0m\u001b[1;33m,\u001b[0m\u001b[1;34m\"desai\"\u001b[0m\u001b[1;33m)\u001b[0m\u001b[1;33m)\u001b[0m\u001b[1;33m\u001b[0m\u001b[1;33m\u001b[0m\u001b[0m\n\u001b[0m",
      "\u001b[1;31mTypeError\u001b[0m: concate_str() takes 2 positional arguments but 3 were given"
     ]
    }
   ],
   "source": [
    "def concate_str(f_name,l_name):\n",
    "    full_name = f_name + l_name\n",
    "    return full_name\n",
    "\n",
    "\n",
    "print(concate_str(\"shailee\",\"R.\",\"desai\"))\n"
   ]
  },
  {
   "cell_type": "code",
   "execution_count": 13,
   "metadata": {},
   "outputs": [
    {
     "ename": "TypeError",
     "evalue": "add() takes 2 positional arguments but 4 were given",
     "output_type": "error",
     "traceback": [
      "\u001b[1;31m---------------------------------------------------------------------------\u001b[0m",
      "\u001b[1;31mTypeError\u001b[0m                                 Traceback (most recent call last)",
      "\u001b[1;32m<ipython-input-13-b14f0b29f9f1>\u001b[0m in \u001b[0;36m<module>\u001b[1;34m\u001b[0m\n\u001b[0;32m      3\u001b[0m     \u001b[1;32mreturn\u001b[0m \u001b[0maddition\u001b[0m\u001b[1;33m\u001b[0m\u001b[1;33m\u001b[0m\u001b[0m\n\u001b[0;32m      4\u001b[0m \u001b[1;33m\u001b[0m\u001b[0m\n\u001b[1;32m----> 5\u001b[1;33m \u001b[0mprint\u001b[0m\u001b[1;33m(\u001b[0m\u001b[0madd\u001b[0m\u001b[1;33m(\u001b[0m\u001b[1;36m4\u001b[0m\u001b[1;33m,\u001b[0m\u001b[1;36m5\u001b[0m\u001b[1;33m,\u001b[0m\u001b[1;36m6\u001b[0m\u001b[1;33m,\u001b[0m\u001b[1;36m8\u001b[0m\u001b[1;33m)\u001b[0m\u001b[1;33m)\u001b[0m \u001b[1;31m# arguments:4,5\u001b[0m\u001b[1;33m\u001b[0m\u001b[1;33m\u001b[0m\u001b[0m\n\u001b[0m",
      "\u001b[1;31mTypeError\u001b[0m: add() takes 2 positional arguments but 4 were given"
     ]
    }
   ],
   "source": [
    "def add(a, b): # parameters a,b\n",
    "    addition = a+b\n",
    "    return addition\n",
    "\n",
    "print(add(4,5,6,8)) # arguments:4,5"
   ]
  },
  {
   "cell_type": "markdown",
   "metadata": {},
   "source": [
    "### *args (arbitary arguments)"
   ]
  },
  {
   "cell_type": "code",
   "execution_count": 16,
   "metadata": {},
   "outputs": [
    {
     "name": "stdout",
     "output_type": "stream",
     "text": [
      "(1, 3)\n",
      "1\n",
      "4\n",
      "4\n"
     ]
    }
   ],
   "source": [
    "def add(*args):\n",
    "    print(args)\n",
    "    addition = 0\n",
    "    for arg in args:\n",
    "        addition += arg\n",
    "        print(addition)\n",
    "    return addition\n",
    "    \n",
    "print(add(1,3))"
   ]
  },
  {
   "cell_type": "markdown",
   "metadata": {},
   "source": [
    "### Keyword arguments"
   ]
  },
  {
   "cell_type": "code",
   "execution_count": 6,
   "metadata": {},
   "outputs": [
    {
     "ename": "TypeError",
     "evalue": "children() got an unexpected keyword argument 'child4'",
     "output_type": "error",
     "traceback": [
      "\u001b[1;31m---------------------------------------------------------------------------\u001b[0m",
      "\u001b[1;31mTypeError\u001b[0m                                 Traceback (most recent call last)",
      "\u001b[1;32m<ipython-input-6-4e27349aaea5>\u001b[0m in \u001b[0;36m<module>\u001b[1;34m\u001b[0m\n\u001b[0;32m      2\u001b[0m   \u001b[0mprint\u001b[0m\u001b[1;33m(\u001b[0m\u001b[1;34m\"The youngest child is \"\u001b[0m \u001b[1;33m+\u001b[0m \u001b[0mchild3\u001b[0m\u001b[1;33m)\u001b[0m\u001b[1;33m\u001b[0m\u001b[1;33m\u001b[0m\u001b[0m\n\u001b[0;32m      3\u001b[0m \u001b[1;33m\u001b[0m\u001b[0m\n\u001b[1;32m----> 4\u001b[1;33m \u001b[0mchildren\u001b[0m\u001b[1;33m(\u001b[0m\u001b[0mchild1\u001b[0m \u001b[1;33m=\u001b[0m \u001b[1;34m\"Emil\"\u001b[0m\u001b[1;33m,\u001b[0m \u001b[0mchild2\u001b[0m \u001b[1;33m=\u001b[0m \u001b[1;34m\"Tobias\"\u001b[0m\u001b[1;33m,\u001b[0m \u001b[0mchild3\u001b[0m \u001b[1;33m=\u001b[0m \u001b[1;34m\"Linus\"\u001b[0m\u001b[1;33m,\u001b[0m \u001b[0mchild4\u001b[0m\u001b[1;33m=\u001b[0m\u001b[1;34m\"sd\"\u001b[0m\u001b[1;33m)\u001b[0m\u001b[1;33m\u001b[0m\u001b[1;33m\u001b[0m\u001b[0m\n\u001b[0m",
      "\u001b[1;31mTypeError\u001b[0m: children() got an unexpected keyword argument 'child4'"
     ]
    }
   ],
   "source": [
    "def children(child3, child2, child1):\n",
    "  print(\"The youngest child is \" + child3)\n",
    "\n",
    "children(child1 = \"Emil\", child2 = \"Tobias\", child3 = \"Linus\", child4=\"sd\")"
   ]
  },
  {
   "cell_type": "markdown",
   "metadata": {},
   "source": [
    "### **kwargs (Arbitary Keyword Arguments)"
   ]
  },
  {
   "cell_type": "code",
   "execution_count": 5,
   "metadata": {},
   "outputs": [
    {
     "name": "stdout",
     "output_type": "stream",
     "text": [
      "{'fname': 'Shailee', 'lname': 'Desai'}\n",
      "His/Her last name is Desai\n"
     ]
    }
   ],
   "source": [
    "def full_name_person(**person):\n",
    "    print(person)\n",
    "    print(\"His/Her last name is \" + person[\"lname\"])\n",
    "\n",
    "full_name_person(fname = \"Shailee\", lname = \"Desai\")"
   ]
  },
  {
   "cell_type": "markdown",
   "metadata": {},
   "source": [
    "### Default Parameters"
   ]
  },
  {
   "cell_type": "code",
   "execution_count": 4,
   "metadata": {},
   "outputs": [
    {
     "name": "stdout",
     "output_type": "stream",
     "text": [
      "My age is 24\n",
      "My age is 70\n",
      "My age is 18\n",
      "My age is 10\n"
     ]
    }
   ],
   "source": [
    "def age(age_person = 18):\n",
    "  print(f\"My age is {age_person}\")\n",
    "\n",
    "age(24)\n",
    "age(70)\n",
    "age()\n",
    "age(10)\n"
   ]
  },
  {
   "cell_type": "markdown",
   "metadata": {},
   "source": [
    "### Program to print all even numbers from given list"
   ]
  },
  {
   "cell_type": "code",
   "execution_count": 21,
   "metadata": {},
   "outputs": [
    {
     "name": "stdout",
     "output_type": "stream",
     "text": [
      "2\n",
      "4\n",
      "6\n",
      "8\n",
      "8\n",
      "10\n",
      "2\n",
      "4\n",
      "6\n",
      "8\n",
      "8\n",
      "10\n"
     ]
    }
   ],
   "source": [
    "#print all the even numbers from the list\n",
    "nums = [1,2,4,5,3,6,7,8,8,10]\n",
    "for num in nums:\n",
    "    if num%2==0:\n",
    "        print(num)\n",
    "print()\n",
    "for i in range(len(nums)):\n",
    "    if nums[i]%2==0:\n",
    "        print(nums[i])"
   ]
  }
 ],
 "metadata": {
  "kernelspec": {
   "display_name": "Python 3",
   "language": "python",
   "name": "python3"
  },
  "language_info": {
   "codemirror_mode": {
    "name": "ipython",
    "version": 3
   },
   "file_extension": ".py",
   "mimetype": "text/x-python",
   "name": "python",
   "nbconvert_exporter": "python",
   "pygments_lexer": "ipython3",
   "version": "3.7.6"
  }
 },
 "nbformat": 4,
 "nbformat_minor": 4
}
