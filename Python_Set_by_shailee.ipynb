{
 "cells": [
  {
   "cell_type": "markdown",
   "metadata": {},
   "source": [
    "### Made by : <u><i>Shailee R. Desai</i></u>\n",
    "\n",
    "# Sets\n",
    "\n",
    "+ It store collections of data (one of 4 built-in data types)\n",
    "+ It is unordered\n",
    "+ It is unindexed\n",
    "+ No Indexing\n",
    "+ No Slicing\n",
    "+ They are Mutable but unhashable (cannot contain list or dictionaries).\n",
    "+ Duplicate elements are not allowed\n",
    "+ written within : {}"
   ]
  },
  {
   "cell_type": "code",
   "execution_count": 1,
   "metadata": {},
   "outputs": [
    {
     "name": "stdout",
     "output_type": "stream",
     "text": [
      "<class 'set'>\n",
      "{True, 'Shailee', 22}\n"
     ]
    }
   ],
   "source": [
    "# Create a set\n",
    "\n",
    "fruits = {\"apple\", \"Guava\", \"cherry\"}\n",
    "print(type(fruits))\n",
    "\n",
    "mix = {\"Shailee\", 22, True} # contain any data type \n",
    "print(mix)"
   ]
  },
  {
   "cell_type": "code",
   "execution_count": 4,
   "metadata": {},
   "outputs": [
    {
     "name": "stdout",
     "output_type": "stream",
     "text": [
      "{'biology', 'maths', 'SS', 'science'}\n",
      "{'s', 't', 'a', 'h', 'M'}\n"
     ]
    }
   ],
   "source": [
    "text_books = [\"maths\", \"science\", \"SS\", \"biology\"]\n",
    "print(set(text_books))\n",
    "\n",
    "book = \"Maths\"\n",
    "print(set(book))"
   ]
  },
  {
   "cell_type": "code",
   "execution_count": 3,
   "metadata": {},
   "outputs": [
    {
     "name": "stdout",
     "output_type": "stream",
     "text": [
      "{1, 3, 7, 8, 9}\n",
      "{'e', 'S', 'l', 'a', 'h', 'i'}\n"
     ]
    }
   ],
   "source": [
    "# remove duplicates\n",
    "\n",
    "print(set([1,3,7,7,8,3,9]))\n",
    "\n",
    "print(set(\"Shailee\"))"
   ]
  },
  {
   "cell_type": "code",
   "execution_count": 6,
   "metadata": {},
   "outputs": [
    {
     "name": "stdout",
     "output_type": "stream",
     "text": [
      "<class 'dict'>\n"
     ]
    }
   ],
   "source": [
    "set_books = {}\n",
    "print(type(set_books))"
   ]
  },
  {
   "cell_type": "code",
   "execution_count": 5,
   "metadata": {},
   "outputs": [
    {
     "name": "stdout",
     "output_type": "stream",
     "text": [
      "<class 'set'>\n"
     ]
    }
   ],
   "source": [
    "# to create empty set\n",
    "set_books_1 = set()\n",
    "print(type(set_books_1))"
   ]
  },
  {
   "cell_type": "code",
   "execution_count": 7,
   "metadata": {},
   "outputs": [
    {
     "name": "stdout",
     "output_type": "stream",
     "text": [
      "{'shailee'}\n",
      "{'h', 's', 'e', 'a', 'l', 'i'}\n"
     ]
    }
   ],
   "source": [
    "x = {\"shailee\"}\n",
    "print(x)\n",
    "\n",
    "y = set(\"shailee\")\n",
    "print(y)"
   ]
  },
  {
   "cell_type": "code",
   "execution_count": 9,
   "metadata": {},
   "outputs": [
    {
     "name": "stdout",
     "output_type": "stream",
     "text": [
      "{1, 2, 3}\n"
     ]
    }
   ],
   "source": [
    "a = [1,2,3]\n",
    "# print({a})\n",
    "\n",
    "print(set(a))"
   ]
  },
  {
   "cell_type": "code",
   "execution_count": 12,
   "metadata": {},
   "outputs": [
    {
     "name": "stdout",
     "output_type": "stream",
     "text": [
      "3\n",
      "False\n",
      "True\n"
     ]
    }
   ],
   "source": [
    "# set size and membership\n",
    "\n",
    "collections = {'coins', 'leaf', 'flowers'}\n",
    "\n",
    "print(len(collections))\n",
    "\n",
    "print('coin' in collections)\n",
    "print('coin' not in collections)"
   ]
  },
  {
   "cell_type": "markdown",
   "metadata": {},
   "source": [
    "### Modifying Sets Methods\n",
    "+ add()\n",
    "+ update()\n",
    "+ remove()\n",
    "+ pop()\n",
    "+ clear()"
   ]
  },
  {
   "cell_type": "code",
   "execution_count": 5,
   "metadata": {},
   "outputs": [
    {
     "ename": "TypeError",
     "evalue": "unhashable type: 'list'",
     "output_type": "error",
     "traceback": [
      "\u001b[1;31m---------------------------------------------------------------------------\u001b[0m",
      "\u001b[1;31mTypeError\u001b[0m                                 Traceback (most recent call last)",
      "\u001b[1;32m<ipython-input-5-3072d317f978>\u001b[0m in \u001b[0;36m<module>\u001b[1;34m\u001b[0m\n\u001b[1;32m----> 1\u001b[1;33m \u001b[0msub\u001b[0m \u001b[1;33m=\u001b[0m \u001b[1;33m{\u001b[0m\u001b[1;34m\"os\"\u001b[0m\u001b[1;33m,\u001b[0m \u001b[1;33m[\u001b[0m\u001b[1;34m\"coa\"\u001b[0m\u001b[1;33m,\u001b[0m \u001b[1;34m\"python\"\u001b[0m\u001b[1;33m]\u001b[0m\u001b[1;33m}\u001b[0m\u001b[1;33m\u001b[0m\u001b[1;33m\u001b[0m\u001b[0m\n\u001b[0m",
      "\u001b[1;31mTypeError\u001b[0m: unhashable type: 'list'"
     ]
    }
   ],
   "source": [
    "sub = {\"os\", [\"coa\", \"python\"]}"
   ]
  },
  {
   "cell_type": "code",
   "execution_count": 15,
   "metadata": {},
   "outputs": [
    {
     "name": "stdout",
     "output_type": "stream",
     "text": [
      "{'java', 'os', 'cn', 'c', 'python'}\n",
      "{'java', 'ds', 'os', 'cn', 'c', 'coa', 'python'}\n",
      "{'java', 'os', 'cn', 'c', 'coa', 'python'}\n",
      "{'os', 'cn', 'c', 'coa', 'python'}\n",
      "set()\n"
     ]
    }
   ],
   "source": [
    "subjects = {\"os\", \"cn\", \"python\", \"java\"}\n",
    "subjects.add(\"c\")\n",
    "print(subjects)\n",
    "subjects.update([\"ds\", \"coa\"])\n",
    "print(subjects)\n",
    "subjects.remove(\"ds\")\n",
    "print(subjects)\n",
    "subjects.pop()\n",
    "print(subjects)\n",
    "subjects.clear()\n",
    "print(subjects)"
   ]
  },
  {
   "cell_type": "markdown",
   "metadata": {},
   "source": [
    "### Operators and Methods\n",
    "\n",
    "+ Operator : | , Method : union()\n",
    "+ Operator : & , Method : intersection()\n",
    "+ Operator : - , Method : difference()"
   ]
  },
  {
   "cell_type": "code",
   "execution_count": 6,
   "metadata": {},
   "outputs": [
    {
     "data": {
      "text/plain": [
       "{'bar', 'baz', 'foo', 'quux', 'qux'}"
      ]
     },
     "execution_count": 6,
     "metadata": {},
     "output_type": "execute_result"
    }
   ],
   "source": [
    "x1 = {'foo', 'bar', 'baz'}\n",
    "x2 = {'baz', 'qux', 'quux'}\n",
    "\n",
    "x1.union(x2)\n",
    "\n",
    "x1 | x2"
   ]
  },
  {
   "cell_type": "code",
   "execution_count": 8,
   "metadata": {},
   "outputs": [
    {
     "name": "stdout",
     "output_type": "stream",
     "text": [
      "{'baz'}\n",
      "{'baz'}\n"
     ]
    }
   ],
   "source": [
    "x1 = {'foo', 'bar', 'baz'}\n",
    "x2 = {'baz', 'qux', 'quux'}\n",
    "\n",
    "print(x1.intersection(x2))\n",
    "\n",
    "print(x1 & x2)\n"
   ]
  },
  {
   "cell_type": "code",
   "execution_count": 10,
   "metadata": {},
   "outputs": [
    {
     "name": "stdout",
     "output_type": "stream",
     "text": [
      "{'qux', 'quux'}\n"
     ]
    }
   ],
   "source": [
    "x1 = {'foo', 'bar', 'baz'}\n",
    "x2 = {'baz', 'qux', 'quux'}\n",
    "\n",
    "x1.difference(x2)\n",
    "\n",
    "\n",
    "x1 - x2\n",
    "print(x2-x1)\n"
   ]
  },
  {
   "cell_type": "code",
   "execution_count": null,
   "metadata": {},
   "outputs": [],
   "source": []
  }
 ],
 "metadata": {
  "kernelspec": {
   "display_name": "Python 3",
   "language": "python",
   "name": "python3"
  },
  "language_info": {
   "codemirror_mode": {
    "name": "ipython",
    "version": 3
   },
   "file_extension": ".py",
   "mimetype": "text/x-python",
   "name": "python",
   "nbconvert_exporter": "python",
   "pygments_lexer": "ipython3",
   "version": "3.7.6"
  }
 },
 "nbformat": 4,
 "nbformat_minor": 4
}
